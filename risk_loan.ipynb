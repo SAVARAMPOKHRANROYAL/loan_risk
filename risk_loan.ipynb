{
 "cells": [
  {
   "cell_type": "code",
   "execution_count": 1,
   "id": "a958286a",
   "metadata": {},
   "outputs": [],
   "source": [
    "import pandas as pd\n",
    "import numpy as np\n",
    "import matplotlib.pyplot as plt"
   ]
  },
  {
   "cell_type": "code",
   "execution_count": 2,
   "id": "905f33b4",
   "metadata": {},
   "outputs": [],
   "source": [
    "import warnings \n",
    "warnings.filterwarnings(\"ignore\")"
   ]
  },
  {
   "cell_type": "code",
   "execution_count": 3,
   "id": "2f718a30",
   "metadata": {},
   "outputs": [
    {
     "data": {
      "text/html": [
       "<div>\n",
       "<style scoped>\n",
       "    .dataframe tbody tr th:only-of-type {\n",
       "        vertical-align: middle;\n",
       "    }\n",
       "\n",
       "    .dataframe tbody tr th {\n",
       "        vertical-align: top;\n",
       "    }\n",
       "\n",
       "    .dataframe thead th {\n",
       "        text-align: right;\n",
       "    }\n",
       "</style>\n",
       "<table border=\"1\" class=\"dataframe\">\n",
       "  <thead>\n",
       "    <tr style=\"text-align: right;\">\n",
       "      <th></th>\n",
       "      <th>Id</th>\n",
       "      <th>Income</th>\n",
       "      <th>Age</th>\n",
       "      <th>Experience</th>\n",
       "      <th>Married/Single</th>\n",
       "      <th>House_Ownership</th>\n",
       "      <th>Car_Ownership</th>\n",
       "      <th>Profession</th>\n",
       "      <th>CITY</th>\n",
       "      <th>STATE</th>\n",
       "      <th>CURRENT_JOB_YRS</th>\n",
       "      <th>CURRENT_HOUSE_YRS</th>\n",
       "      <th>Risk_Flag</th>\n",
       "    </tr>\n",
       "  </thead>\n",
       "  <tbody>\n",
       "    <tr>\n",
       "      <th>0</th>\n",
       "      <td>1</td>\n",
       "      <td>1303834</td>\n",
       "      <td>23</td>\n",
       "      <td>3</td>\n",
       "      <td>single</td>\n",
       "      <td>rented</td>\n",
       "      <td>no</td>\n",
       "      <td>Mechanical_engineer</td>\n",
       "      <td>Rewa</td>\n",
       "      <td>Madhya_Pradesh</td>\n",
       "      <td>3</td>\n",
       "      <td>13</td>\n",
       "      <td>0</td>\n",
       "    </tr>\n",
       "    <tr>\n",
       "      <th>1</th>\n",
       "      <td>2</td>\n",
       "      <td>7574516</td>\n",
       "      <td>40</td>\n",
       "      <td>10</td>\n",
       "      <td>single</td>\n",
       "      <td>rented</td>\n",
       "      <td>no</td>\n",
       "      <td>Software_Developer</td>\n",
       "      <td>Parbhani</td>\n",
       "      <td>Maharashtra</td>\n",
       "      <td>9</td>\n",
       "      <td>13</td>\n",
       "      <td>0</td>\n",
       "    </tr>\n",
       "    <tr>\n",
       "      <th>2</th>\n",
       "      <td>3</td>\n",
       "      <td>3991815</td>\n",
       "      <td>66</td>\n",
       "      <td>4</td>\n",
       "      <td>married</td>\n",
       "      <td>rented</td>\n",
       "      <td>no</td>\n",
       "      <td>Technical_writer</td>\n",
       "      <td>Alappuzha</td>\n",
       "      <td>Kerala</td>\n",
       "      <td>4</td>\n",
       "      <td>10</td>\n",
       "      <td>0</td>\n",
       "    </tr>\n",
       "    <tr>\n",
       "      <th>3</th>\n",
       "      <td>4</td>\n",
       "      <td>6256451</td>\n",
       "      <td>41</td>\n",
       "      <td>2</td>\n",
       "      <td>single</td>\n",
       "      <td>rented</td>\n",
       "      <td>yes</td>\n",
       "      <td>Software_Developer</td>\n",
       "      <td>Bhubaneswar</td>\n",
       "      <td>Odisha</td>\n",
       "      <td>2</td>\n",
       "      <td>12</td>\n",
       "      <td>1</td>\n",
       "    </tr>\n",
       "    <tr>\n",
       "      <th>4</th>\n",
       "      <td>5</td>\n",
       "      <td>5768871</td>\n",
       "      <td>47</td>\n",
       "      <td>11</td>\n",
       "      <td>single</td>\n",
       "      <td>rented</td>\n",
       "      <td>no</td>\n",
       "      <td>Civil_servant</td>\n",
       "      <td>Tiruchirappalli[10]</td>\n",
       "      <td>Tamil_Nadu</td>\n",
       "      <td>3</td>\n",
       "      <td>14</td>\n",
       "      <td>1</td>\n",
       "    </tr>\n",
       "  </tbody>\n",
       "</table>\n",
       "</div>"
      ],
      "text/plain": [
       "   Id   Income  Age  Experience Married/Single House_Ownership Car_Ownership  \\\n",
       "0   1  1303834   23           3         single          rented            no   \n",
       "1   2  7574516   40          10         single          rented            no   \n",
       "2   3  3991815   66           4        married          rented            no   \n",
       "3   4  6256451   41           2         single          rented           yes   \n",
       "4   5  5768871   47          11         single          rented            no   \n",
       "\n",
       "            Profession                 CITY           STATE  CURRENT_JOB_YRS  \\\n",
       "0  Mechanical_engineer                 Rewa  Madhya_Pradesh                3   \n",
       "1   Software_Developer             Parbhani     Maharashtra                9   \n",
       "2     Technical_writer            Alappuzha          Kerala                4   \n",
       "3   Software_Developer          Bhubaneswar          Odisha                2   \n",
       "4        Civil_servant  Tiruchirappalli[10]      Tamil_Nadu                3   \n",
       "\n",
       "   CURRENT_HOUSE_YRS  Risk_Flag  \n",
       "0                 13          0  \n",
       "1                 13          0  \n",
       "2                 10          0  \n",
       "3                 12          1  \n",
       "4                 14          1  "
      ]
     },
     "execution_count": 3,
     "metadata": {},
     "output_type": "execute_result"
    }
   ],
   "source": [
    "data=pd.read_csv(\"Training Data.csv\")\n",
    "data.head()"
   ]
  },
  {
   "cell_type": "code",
   "execution_count": 4,
   "id": "03cf6a54",
   "metadata": {},
   "outputs": [
    {
     "data": {
      "text/plain": [
       "Id                   0\n",
       "Income               0\n",
       "Age                  0\n",
       "Experience           0\n",
       "Married/Single       0\n",
       "House_Ownership      0\n",
       "Car_Ownership        0\n",
       "Profession           0\n",
       "CITY                 0\n",
       "STATE                0\n",
       "CURRENT_JOB_YRS      0\n",
       "CURRENT_HOUSE_YRS    0\n",
       "Risk_Flag            0\n",
       "dtype: int64"
      ]
     },
     "execution_count": 4,
     "metadata": {},
     "output_type": "execute_result"
    }
   ],
   "source": [
    "data.isnull().sum()"
   ]
  },
  {
   "cell_type": "code",
   "execution_count": 5,
   "id": "a6fb874e",
   "metadata": {},
   "outputs": [
    {
     "data": {
      "text/plain": [
       "(252000, 13)"
      ]
     },
     "execution_count": 5,
     "metadata": {},
     "output_type": "execute_result"
    }
   ],
   "source": [
    "data.shape"
   ]
  },
  {
   "cell_type": "code",
   "execution_count": 6,
   "id": "f85b1fea",
   "metadata": {
    "scrolled": false
   },
   "outputs": [
    {
     "name": "stdout",
     "output_type": "stream",
     "text": [
      "<class 'pandas.core.frame.DataFrame'>\n",
      "RangeIndex: 252000 entries, 0 to 251999\n",
      "Data columns (total 13 columns):\n",
      " #   Column             Non-Null Count   Dtype \n",
      "---  ------             --------------   ----- \n",
      " 0   Id                 252000 non-null  int64 \n",
      " 1   Income             252000 non-null  int64 \n",
      " 2   Age                252000 non-null  int64 \n",
      " 3   Experience         252000 non-null  int64 \n",
      " 4   Married/Single     252000 non-null  object\n",
      " 5   House_Ownership    252000 non-null  object\n",
      " 6   Car_Ownership      252000 non-null  object\n",
      " 7   Profession         252000 non-null  object\n",
      " 8   CITY               252000 non-null  object\n",
      " 9   STATE              252000 non-null  object\n",
      " 10  CURRENT_JOB_YRS    252000 non-null  int64 \n",
      " 11  CURRENT_HOUSE_YRS  252000 non-null  int64 \n",
      " 12  Risk_Flag          252000 non-null  int64 \n",
      "dtypes: int64(7), object(6)\n",
      "memory usage: 25.0+ MB\n"
     ]
    }
   ],
   "source": [
    "data.info()\n"
   ]
  },
  {
   "cell_type": "code",
   "execution_count": 7,
   "id": "6ba771c5",
   "metadata": {},
   "outputs": [
    {
     "data": {
      "text/plain": [
       "(252000, 13)"
      ]
     },
     "execution_count": 7,
     "metadata": {},
     "output_type": "execute_result"
    }
   ],
   "source": [
    "data.shape"
   ]
  },
  {
   "cell_type": "code",
   "execution_count": 8,
   "id": "db15b291",
   "metadata": {},
   "outputs": [
    {
     "name": "stdout",
     "output_type": "stream",
     "text": [
      "Class 0: 221004\n",
      "Class 1: 30996\n",
      "Proportion: 7.13 : 1\n",
      "Total CC Trans: 252000\n"
     ]
    }
   ],
   "source": [
    "data_count = data.Risk_Flag.value_counts()\n",
    "print('Class 0:', data_count[0])\n",
    "print('Class 1:', data_count[1])\n",
    "print('Proportion:', round(data_count[0] / data_count[1], 2), ': 1')\n",
    "print('Total CC Trans:', len(data))"
   ]
  },
  {
   "cell_type": "code",
   "execution_count": 9,
   "id": "d9dc035f",
   "metadata": {},
   "outputs": [
    {
     "data": {
      "text/html": [
       "<div>\n",
       "<style scoped>\n",
       "    .dataframe tbody tr th:only-of-type {\n",
       "        vertical-align: middle;\n",
       "    }\n",
       "\n",
       "    .dataframe tbody tr th {\n",
       "        vertical-align: top;\n",
       "    }\n",
       "\n",
       "    .dataframe thead th {\n",
       "        text-align: right;\n",
       "    }\n",
       "</style>\n",
       "<table border=\"1\" class=\"dataframe\">\n",
       "  <thead>\n",
       "    <tr style=\"text-align: right;\">\n",
       "      <th></th>\n",
       "      <th>Id</th>\n",
       "      <th>Income</th>\n",
       "      <th>Age</th>\n",
       "      <th>Experience</th>\n",
       "      <th>Married/Single</th>\n",
       "      <th>House_Ownership</th>\n",
       "      <th>Car_Ownership</th>\n",
       "      <th>Profession</th>\n",
       "      <th>CITY</th>\n",
       "      <th>STATE</th>\n",
       "      <th>CURRENT_JOB_YRS</th>\n",
       "      <th>CURRENT_HOUSE_YRS</th>\n",
       "      <th>Risk_Flag</th>\n",
       "    </tr>\n",
       "  </thead>\n",
       "  <tbody>\n",
       "  </tbody>\n",
       "</table>\n",
       "</div>"
      ],
      "text/plain": [
       "Empty DataFrame\n",
       "Columns: [Id, Income, Age, Experience, Married/Single, House_Ownership, Car_Ownership, Profession, CITY, STATE, CURRENT_JOB_YRS, CURRENT_HOUSE_YRS, Risk_Flag]\n",
       "Index: []"
      ]
     },
     "execution_count": 9,
     "metadata": {},
     "output_type": "execute_result"
    }
   ],
   "source": [
    "data_dup = data[data.duplicated(keep='last')]\n",
    "data_dup"
   ]
  },
  {
   "cell_type": "code",
   "execution_count": 10,
   "id": "37eb691d",
   "metadata": {},
   "outputs": [
    {
     "data": {
      "text/plain": [
       "(252000, 13)"
      ]
     },
     "execution_count": 10,
     "metadata": {},
     "output_type": "execute_result"
    }
   ],
   "source": [
    "data = data.drop_duplicates()\n",
    "data.shape"
   ]
  },
  {
   "cell_type": "code",
   "execution_count": 11,
   "id": "9f2dda01",
   "metadata": {},
   "outputs": [],
   "source": [
    "data = data.reset_index(drop=True)\n",
    "data_BK2 = data.copy()"
   ]
  },
  {
   "cell_type": "code",
   "execution_count": 12,
   "id": "80a808d8",
   "metadata": {},
   "outputs": [
    {
     "name": "stdout",
     "output_type": "stream",
     "text": [
      "1         1\n",
      "167991    1\n",
      "167993    1\n",
      "167994    1\n",
      "167995    1\n",
      "         ..\n",
      "84005     1\n",
      "84006     1\n",
      "84007     1\n",
      "84008     1\n",
      "252000    1\n",
      "Name: Id, Length: 252000, dtype: int64\n",
      "7936020    77\n",
      "9775375    71\n",
      "1996629    71\n",
      "9345456    70\n",
      "1886371    40\n",
      "           ..\n",
      "8927336     1\n",
      "5656901     1\n",
      "8171741     1\n",
      "3164826     1\n",
      "9070230     1\n",
      "Name: Income, Length: 41920, dtype: int64\n",
      "27    5197\n",
      "66    5092\n",
      "48    4967\n",
      "33    4921\n",
      "41    4827\n",
      "45    4806\n",
      "54    4785\n",
      "68    4772\n",
      "35    4643\n",
      "50    4624\n",
      "69    4617\n",
      "76    4585\n",
      "55    4563\n",
      "25    4543\n",
      "72    4533\n",
      "79    4505\n",
      "60    4504\n",
      "59    4498\n",
      "53    4490\n",
      "47    4483\n",
      "30    4468\n",
      "78    4455\n",
      "22    4430\n",
      "34    4414\n",
      "57    4394\n",
      "58    4368\n",
      "56    4344\n",
      "24    4326\n",
      "23    4322\n",
      "62    4311\n",
      "31    4257\n",
      "70    4251\n",
      "61    4235\n",
      "40    4233\n",
      "43    4206\n",
      "21    4205\n",
      "49    4203\n",
      "26    4156\n",
      "37    4153\n",
      "71    4150\n",
      "42    4134\n",
      "64    4132\n",
      "29    4109\n",
      "67    3995\n",
      "65    3969\n",
      "74    3954\n",
      "63    3942\n",
      "77    3916\n",
      "28    3901\n",
      "32    3834\n",
      "75    3829\n",
      "39    3800\n",
      "38    3793\n",
      "46    3627\n",
      "44    3622\n",
      "73    3569\n",
      "36    3444\n",
      "51    3397\n",
      "52    3197\n",
      "Name: Age, dtype: int64\n",
      "6     13158\n",
      "9     12936\n",
      "12    12800\n",
      "18    12601\n",
      "10    12503\n",
      "5     12441\n",
      "14    12369\n",
      "19    12287\n",
      "17    12131\n",
      "16    12106\n",
      "3     12069\n",
      "15    11993\n",
      "4     11807\n",
      "13    11713\n",
      "1     11575\n",
      "11    11449\n",
      "20    11350\n",
      "8     11350\n",
      "7     11232\n",
      "2     11087\n",
      "0     11043\n",
      "Name: Experience, dtype: int64\n",
      "single     226272\n",
      "married     25728\n",
      "Name: Married/Single, dtype: int64\n",
      "rented          231898\n",
      "owned            12918\n",
      "norent_noown      7184\n",
      "Name: House_Ownership, dtype: int64\n",
      "no     176000\n",
      "yes     76000\n",
      "Name: Car_Ownership, dtype: int64\n",
      "Physician                     5957\n",
      "Statistician                  5806\n",
      "Web_designer                  5397\n",
      "Psychologist                  5390\n",
      "Computer_hardware_engineer    5372\n",
      "Drafter                       5359\n",
      "Magistrate                    5357\n",
      "Fashion_Designer              5304\n",
      "Air_traffic_controller        5281\n",
      "Comedian                      5259\n",
      "Industrial_Engineer           5250\n",
      "Mechanical_engineer           5217\n",
      "Chemical_engineer             5205\n",
      "Technical_writer              5195\n",
      "Hotel_Manager                 5178\n",
      "Financial_Analyst             5167\n",
      "Graphic_Designer              5166\n",
      "Flight_attendant              5128\n",
      "Biomedical_Engineer           5127\n",
      "Secretary                     5061\n",
      "Software_Developer            5053\n",
      "Petroleum_Engineer            5041\n",
      "Police_officer                5035\n",
      "Computer_operator             4990\n",
      "Politician                    4944\n",
      "Microbiologist                4881\n",
      "Technician                    4864\n",
      "Artist                        4861\n",
      "Lawyer                        4818\n",
      "Consultant                    4808\n",
      "Dentist                       4782\n",
      "Scientist                     4781\n",
      "Surgeon                       4772\n",
      "Aviator                       4758\n",
      "Technology_specialist         4737\n",
      "Design_Engineer               4729\n",
      "Surveyor                      4714\n",
      "Geologist                     4672\n",
      "Analyst                       4668\n",
      "Army_officer                  4661\n",
      "Architect                     4657\n",
      "Chef                          4635\n",
      "Librarian                     4628\n",
      "Civil_engineer                4616\n",
      "Designer                      4598\n",
      "Economist                     4573\n",
      "Firefighter                   4507\n",
      "Chartered_Accountant          4493\n",
      "Civil_servant                 4413\n",
      "Official                      4087\n",
      "Engineer                      4048\n",
      "Name: Profession, dtype: int64\n",
      "Vijayanagaram       1259\n",
      "Bhopal              1208\n",
      "Bulandshahr         1185\n",
      "Saharsa[29]         1180\n",
      "Vijayawada          1172\n",
      "                    ... \n",
      "Ujjain               486\n",
      "Warangal[11][12]     459\n",
      "Bettiah[33]          457\n",
      "Katni                448\n",
      "Karaikudi            431\n",
      "Name: CITY, Length: 317, dtype: int64\n",
      "Uttar_Pradesh        28400\n",
      "Maharashtra          25562\n",
      "Andhra_Pradesh       25297\n",
      "West_Bengal          23483\n",
      "Bihar                19780\n",
      "Tamil_Nadu           16537\n",
      "Madhya_Pradesh       14122\n",
      "Karnataka            11855\n",
      "Gujarat              11408\n",
      "Rajasthan             9174\n",
      "Jharkhand             8965\n",
      "Haryana               7890\n",
      "Telangana             7524\n",
      "Assam                 7062\n",
      "Kerala                5805\n",
      "Delhi                 5490\n",
      "Punjab                4720\n",
      "Odisha                4658\n",
      "Chhattisgarh          3834\n",
      "Uttarakhand           1874\n",
      "Jammu_and_Kashmir     1780\n",
      "Puducherry            1433\n",
      "Mizoram                849\n",
      "Manipur                849\n",
      "Himachal_Pradesh       833\n",
      "Tripura                809\n",
      "Uttar_Pradesh[5]       743\n",
      "Chandigarh             656\n",
      "Sikkim                 608\n",
      "Name: STATE, dtype: int64\n",
      "3     29460\n",
      "4     28339\n",
      "5     25091\n",
      "6     23491\n",
      "7     19925\n",
      "8     18874\n",
      "9     17132\n",
      "10    15768\n",
      "11    13595\n",
      "1     11575\n",
      "2     11087\n",
      "0     11043\n",
      "12    10605\n",
      "13     9099\n",
      "14     6916\n",
      "Name: CURRENT_JOB_YRS, dtype: int64\n",
      "11    51873\n",
      "12    51791\n",
      "13    50659\n",
      "14    49003\n",
      "10    48674\n",
      "Name: CURRENT_HOUSE_YRS, dtype: int64\n",
      "0    221004\n",
      "1     30996\n",
      "Name: Risk_Flag, dtype: int64\n"
     ]
    }
   ],
   "source": [
    "for i in data.columns:\n",
    "    print(data[i].value_counts())"
   ]
  },
  {
   "cell_type": "code",
   "execution_count": 13,
   "id": "8f566b88",
   "metadata": {},
   "outputs": [
    {
     "data": {
      "text/plain": [
       "single     226272\n",
       "married     25728\n",
       "Name: Married/Single, dtype: int64"
      ]
     },
     "execution_count": 13,
     "metadata": {},
     "output_type": "execute_result"
    }
   ],
   "source": [
    "data['Married/Single'].value_counts()"
   ]
  },
  {
   "cell_type": "code",
   "execution_count": 14,
   "id": "9e902c0b",
   "metadata": {},
   "outputs": [],
   "source": [
    "data['Married/Single'] = data['Married/Single'].str.replace('single', '1')\n",
    "data['Married/Single'] = data['Married/Single'].str.replace('married', '0')\n",
    "data['Married/Single'] = data['Married/Single'].astype(int)"
   ]
  },
  {
   "cell_type": "code",
   "execution_count": 15,
   "id": "92afdf8e",
   "metadata": {},
   "outputs": [
    {
     "name": "stdout",
     "output_type": "stream",
     "text": [
      "<class 'pandas.core.frame.DataFrame'>\n",
      "RangeIndex: 252000 entries, 0 to 251999\n",
      "Data columns (total 13 columns):\n",
      " #   Column             Non-Null Count   Dtype \n",
      "---  ------             --------------   ----- \n",
      " 0   Id                 252000 non-null  int64 \n",
      " 1   Income             252000 non-null  int64 \n",
      " 2   Age                252000 non-null  int64 \n",
      " 3   Experience         252000 non-null  int64 \n",
      " 4   Married/Single     252000 non-null  int32 \n",
      " 5   House_Ownership    252000 non-null  object\n",
      " 6   Car_Ownership      252000 non-null  object\n",
      " 7   Profession         252000 non-null  object\n",
      " 8   CITY               252000 non-null  object\n",
      " 9   STATE              252000 non-null  object\n",
      " 10  CURRENT_JOB_YRS    252000 non-null  int64 \n",
      " 11  CURRENT_HOUSE_YRS  252000 non-null  int64 \n",
      " 12  Risk_Flag          252000 non-null  int64 \n",
      "dtypes: int32(1), int64(7), object(5)\n",
      "memory usage: 24.0+ MB\n"
     ]
    }
   ],
   "source": [
    "data.info()"
   ]
  },
  {
   "cell_type": "code",
   "execution_count": 16,
   "id": "fc398e35",
   "metadata": {
    "scrolled": true
   },
   "outputs": [
    {
     "data": {
      "text/plain": [
       "rented          231898\n",
       "owned            12918\n",
       "norent_noown      7184\n",
       "Name: House_Ownership, dtype: int64"
      ]
     },
     "execution_count": 16,
     "metadata": {},
     "output_type": "execute_result"
    }
   ],
   "source": [
    "data['House_Ownership'].value_counts()"
   ]
  },
  {
   "cell_type": "code",
   "execution_count": 17,
   "id": "9aee88c9",
   "metadata": {},
   "outputs": [],
   "source": [
    "data['House_Ownership'] = data['House_Ownership'].str.replace('rented', '1')\n",
    "data['House_Ownership'] = data['House_Ownership'].str.replace('owned', '0')\n",
    "data['House_Ownership'] = data['House_Ownership'].str.replace('norent_noown', '2')\n",
    "data['House_Ownership'] = data['House_Ownership'].astype(int)"
   ]
  },
  {
   "cell_type": "code",
   "execution_count": 18,
   "id": "84226b91",
   "metadata": {},
   "outputs": [
    {
     "name": "stdout",
     "output_type": "stream",
     "text": [
      "<class 'pandas.core.frame.DataFrame'>\n",
      "RangeIndex: 252000 entries, 0 to 251999\n",
      "Data columns (total 13 columns):\n",
      " #   Column             Non-Null Count   Dtype \n",
      "---  ------             --------------   ----- \n",
      " 0   Id                 252000 non-null  int64 \n",
      " 1   Income             252000 non-null  int64 \n",
      " 2   Age                252000 non-null  int64 \n",
      " 3   Experience         252000 non-null  int64 \n",
      " 4   Married/Single     252000 non-null  int32 \n",
      " 5   House_Ownership    252000 non-null  int32 \n",
      " 6   Car_Ownership      252000 non-null  object\n",
      " 7   Profession         252000 non-null  object\n",
      " 8   CITY               252000 non-null  object\n",
      " 9   STATE              252000 non-null  object\n",
      " 10  CURRENT_JOB_YRS    252000 non-null  int64 \n",
      " 11  CURRENT_HOUSE_YRS  252000 non-null  int64 \n",
      " 12  Risk_Flag          252000 non-null  int64 \n",
      "dtypes: int32(2), int64(7), object(4)\n",
      "memory usage: 23.1+ MB\n"
     ]
    }
   ],
   "source": [
    "data.info()"
   ]
  },
  {
   "cell_type": "code",
   "execution_count": 19,
   "id": "99e51c7a",
   "metadata": {},
   "outputs": [
    {
     "data": {
      "text/plain": [
       "no     176000\n",
       "yes     76000\n",
       "Name: Car_Ownership, dtype: int64"
      ]
     },
     "execution_count": 19,
     "metadata": {},
     "output_type": "execute_result"
    }
   ],
   "source": [
    "data['Car_Ownership'].value_counts()"
   ]
  },
  {
   "cell_type": "code",
   "execution_count": 20,
   "id": "828c62c7",
   "metadata": {},
   "outputs": [],
   "source": [
    "data['Car_Ownership'] = data['Car_Ownership'].str.replace('yes', '1')\n",
    "data['Car_Ownership'] = data['Car_Ownership'].str.replace('no', '0')\n",
    "data['Car_Ownership'] = data['Car_Ownership'].astype(int)"
   ]
  },
  {
   "cell_type": "code",
   "execution_count": 21,
   "id": "96709637",
   "metadata": {},
   "outputs": [
    {
     "name": "stdout",
     "output_type": "stream",
     "text": [
      "<class 'pandas.core.frame.DataFrame'>\n",
      "RangeIndex: 252000 entries, 0 to 251999\n",
      "Data columns (total 13 columns):\n",
      " #   Column             Non-Null Count   Dtype \n",
      "---  ------             --------------   ----- \n",
      " 0   Id                 252000 non-null  int64 \n",
      " 1   Income             252000 non-null  int64 \n",
      " 2   Age                252000 non-null  int64 \n",
      " 3   Experience         252000 non-null  int64 \n",
      " 4   Married/Single     252000 non-null  int32 \n",
      " 5   House_Ownership    252000 non-null  int32 \n",
      " 6   Car_Ownership      252000 non-null  int32 \n",
      " 7   Profession         252000 non-null  object\n",
      " 8   CITY               252000 non-null  object\n",
      " 9   STATE              252000 non-null  object\n",
      " 10  CURRENT_JOB_YRS    252000 non-null  int64 \n",
      " 11  CURRENT_HOUSE_YRS  252000 non-null  int64 \n",
      " 12  Risk_Flag          252000 non-null  int64 \n",
      "dtypes: int32(3), int64(7), object(3)\n",
      "memory usage: 22.1+ MB\n"
     ]
    }
   ],
   "source": [
    "data.info()"
   ]
  },
  {
   "cell_type": "code",
   "execution_count": 22,
   "id": "5d81a661",
   "metadata": {
    "scrolled": true
   },
   "outputs": [
    {
     "data": {
      "text/plain": [
       "Physician                     5957\n",
       "Statistician                  5806\n",
       "Web_designer                  5397\n",
       "Psychologist                  5390\n",
       "Computer_hardware_engineer    5372\n",
       "Drafter                       5359\n",
       "Magistrate                    5357\n",
       "Fashion_Designer              5304\n",
       "Air_traffic_controller        5281\n",
       "Comedian                      5259\n",
       "Industrial_Engineer           5250\n",
       "Mechanical_engineer           5217\n",
       "Chemical_engineer             5205\n",
       "Technical_writer              5195\n",
       "Hotel_Manager                 5178\n",
       "Financial_Analyst             5167\n",
       "Graphic_Designer              5166\n",
       "Flight_attendant              5128\n",
       "Biomedical_Engineer           5127\n",
       "Secretary                     5061\n",
       "Software_Developer            5053\n",
       "Petroleum_Engineer            5041\n",
       "Police_officer                5035\n",
       "Computer_operator             4990\n",
       "Politician                    4944\n",
       "Microbiologist                4881\n",
       "Technician                    4864\n",
       "Artist                        4861\n",
       "Lawyer                        4818\n",
       "Consultant                    4808\n",
       "Dentist                       4782\n",
       "Scientist                     4781\n",
       "Surgeon                       4772\n",
       "Aviator                       4758\n",
       "Technology_specialist         4737\n",
       "Design_Engineer               4729\n",
       "Surveyor                      4714\n",
       "Geologist                     4672\n",
       "Analyst                       4668\n",
       "Army_officer                  4661\n",
       "Architect                     4657\n",
       "Chef                          4635\n",
       "Librarian                     4628\n",
       "Civil_engineer                4616\n",
       "Designer                      4598\n",
       "Economist                     4573\n",
       "Firefighter                   4507\n",
       "Chartered_Accountant          4493\n",
       "Civil_servant                 4413\n",
       "Official                      4087\n",
       "Engineer                      4048\n",
       "Name: Profession, dtype: int64"
      ]
     },
     "execution_count": 22,
     "metadata": {},
     "output_type": "execute_result"
    }
   ],
   "source": [
    "data['Profession'].value_counts()"
   ]
  },
  {
   "cell_type": "code",
   "execution_count": 23,
   "id": "c2243c26",
   "metadata": {},
   "outputs": [],
   "source": [
    "data['Profession'] = data['Profession'].str.replace('Physician', '0')\n",
    "data['Profession'] = data['Profession'].str.replace('Statistician', '1')\n",
    "data['Profession'] = data['Profession'].str.replace('Web_designer', '2')\n",
    "data['Profession'] = data['Profession'].str.replace('Psychologist', '3')\n",
    "data['Profession'] = data['Profession'].str.replace('Computer_hardware_engineer', '4')\n",
    "data['Profession'] = data['Profession'].str.replace('Drafter', '5')\n",
    "data['Profession'] = data['Profession'].str.replace('Magistrate', '6')\n",
    "data['Profession'] = data['Profession'].str.replace('Fashion_Designer', '7')\n",
    "data['Profession'] = data['Profession'].str.replace('Air_traffic_controller', '8')\n",
    "data['Profession'] = data['Profession'].str.replace('Comedian', '9')\n",
    "data['Profession'] = data['Profession'].str.replace('Industrial_Engineer', '10')\n",
    "data['Profession'] = data['Profession'].str.replace('Mechanical_engineer', '11')\n",
    "data['Profession'] = data['Profession'].str.replace('Chemical_engineer', '12')\n",
    "data['Profession'] = data['Profession'].str.replace('Technical_writer', '13')\n",
    "data['Profession'] = data['Profession'].str.replace('Hotel_Manager', '14')\n",
    "data['Profession'] = data['Profession'].str.replace('Financial_Analyst', '15')\n",
    "data['Profession'] = data['Profession'].str.replace('Graphic_Designer', '16')\n",
    "data['Profession'] = data['Profession'].str.replace('Flight_attendant', '17')\n",
    "data['Profession'] = data['Profession'].str.replace('Biomedical_Engineer', '18')\n",
    "data['Profession'] = data['Profession'].str.replace('Secretary', '19')\n",
    "data['Profession'] = data['Profession'].str.replace('Software_Developer', '20')\n",
    "data['Profession'] = data['Profession'].str.replace('Petroleum_Engineer', '21')\n",
    "data['Profession'] = data['Profession'].str.replace('Police_officer', '22')\n",
    "data['Profession'] = data['Profession'].str.replace('Computer_operator', '23')\n",
    "data['Profession'] = data['Profession'].str.replace('Politician', '24')\n",
    "data['Profession'] = data['Profession'].str.replace('Microbiologist', '25')\n",
    "data['Profession'] = data['Profession'].str.replace('Technician', '26')\n",
    "data['Profession'] = data['Profession'].str.replace('Artist', '27')\n",
    "data['Profession'] = data['Profession'].str.replace('Lawyer', '28')\n",
    "data['Profession'] = data['Profession'].str.replace('Consultant', '29')\n",
    "data['Profession'] = data['Profession'].str.replace('Dentist', '30')\n",
    "data['Profession'] = data['Profession'].str.replace('Scientist', '31')\n",
    "data['Profession'] = data['Profession'].str.replace('Surgeon', '32')\n",
    "data['Profession'] = data['Profession'].str.replace('Aviator', '33')\n",
    "data['Profession'] = data['Profession'].str.replace('Technology_specialist', '34')\n",
    "data['Profession'] = data['Profession'].str.replace('Design_Engineer', '35')\n",
    "data['Profession'] = data['Profession'].str.replace('Surveyor', '36')\n",
    "data['Profession'] = data['Profession'].str.replace('Geologist', '37')\n",
    "data['Profession'] = data['Profession'].str.replace('Analyst', '38')\n",
    "data['Profession'] = data['Profession'].str.replace('Army_officer', '39')\n",
    "data['Profession'] = data['Profession'].str.replace('Architect', '40')\n",
    "data['Profession'] = data['Profession'].str.replace('Chef', '41')\n",
    "data['Profession'] = data['Profession'].str.replace('Librarian', '42')\n",
    "data['Profession'] = data['Profession'].str.replace('Civil_engineer', '43')\n",
    "data['Profession'] = data['Profession'].str.replace('Designer', '44')\n",
    "data['Profession'] = data['Profession'].str.replace('Economist', '45')\n",
    "data['Profession'] = data['Profession'].str.replace('Firefighter', '46')\n",
    "data['Profession'] = data['Profession'].str.replace('Chartered_Accountant', '47')\n",
    "data['Profession'] = data['Profession'].str.replace('Civil_servant', '48')\n",
    "data['Profession'] = data['Profession'].str.replace('Official', '49')\n",
    "data['Profession'] = data['Profession'].str.replace('Engineer', '50')\n",
    "data['Profession'] = data['Profession'].astype(int)"
   ]
  },
  {
   "cell_type": "code",
   "execution_count": 24,
   "id": "064cd31a",
   "metadata": {},
   "outputs": [
    {
     "name": "stdout",
     "output_type": "stream",
     "text": [
      "<class 'pandas.core.frame.DataFrame'>\n",
      "RangeIndex: 252000 entries, 0 to 251999\n",
      "Data columns (total 13 columns):\n",
      " #   Column             Non-Null Count   Dtype \n",
      "---  ------             --------------   ----- \n",
      " 0   Id                 252000 non-null  int64 \n",
      " 1   Income             252000 non-null  int64 \n",
      " 2   Age                252000 non-null  int64 \n",
      " 3   Experience         252000 non-null  int64 \n",
      " 4   Married/Single     252000 non-null  int32 \n",
      " 5   House_Ownership    252000 non-null  int32 \n",
      " 6   Car_Ownership      252000 non-null  int32 \n",
      " 7   Profession         252000 non-null  int32 \n",
      " 8   CITY               252000 non-null  object\n",
      " 9   STATE              252000 non-null  object\n",
      " 10  CURRENT_JOB_YRS    252000 non-null  int64 \n",
      " 11  CURRENT_HOUSE_YRS  252000 non-null  int64 \n",
      " 12  Risk_Flag          252000 non-null  int64 \n",
      "dtypes: int32(4), int64(7), object(2)\n",
      "memory usage: 21.1+ MB\n"
     ]
    }
   ],
   "source": [
    "data.info()"
   ]
  },
  {
   "cell_type": "code",
   "execution_count": 25,
   "id": "b03f0ba0",
   "metadata": {},
   "outputs": [
    {
     "data": {
      "text/plain": [
       "Vijayanagaram       1259\n",
       "Bhopal              1208\n",
       "Bulandshahr         1185\n",
       "Saharsa[29]         1180\n",
       "Vijayawada          1172\n",
       "                    ... \n",
       "Ujjain               486\n",
       "Warangal[11][12]     459\n",
       "Bettiah[33]          457\n",
       "Katni                448\n",
       "Karaikudi            431\n",
       "Name: CITY, Length: 317, dtype: int64"
      ]
     },
     "execution_count": 25,
     "metadata": {},
     "output_type": "execute_result"
    }
   ],
   "source": [
    "data['CITY'].value_counts()"
   ]
  },
  {
   "cell_type": "code",
   "execution_count": 26,
   "id": "d5af73b4",
   "metadata": {},
   "outputs": [
    {
     "data": {
      "text/plain": [
       "Uttar_Pradesh        28400\n",
       "Maharashtra          25562\n",
       "Andhra_Pradesh       25297\n",
       "West_Bengal          23483\n",
       "Bihar                19780\n",
       "Tamil_Nadu           16537\n",
       "Madhya_Pradesh       14122\n",
       "Karnataka            11855\n",
       "Gujarat              11408\n",
       "Rajasthan             9174\n",
       "Jharkhand             8965\n",
       "Haryana               7890\n",
       "Telangana             7524\n",
       "Assam                 7062\n",
       "Kerala                5805\n",
       "Delhi                 5490\n",
       "Punjab                4720\n",
       "Odisha                4658\n",
       "Chhattisgarh          3834\n",
       "Uttarakhand           1874\n",
       "Jammu_and_Kashmir     1780\n",
       "Puducherry            1433\n",
       "Mizoram                849\n",
       "Manipur                849\n",
       "Himachal_Pradesh       833\n",
       "Tripura                809\n",
       "Uttar_Pradesh[5]       743\n",
       "Chandigarh             656\n",
       "Sikkim                 608\n",
       "Name: STATE, dtype: int64"
      ]
     },
     "execution_count": 26,
     "metadata": {},
     "output_type": "execute_result"
    }
   ],
   "source": [
    "data['STATE'].value_counts()"
   ]
  },
  {
   "cell_type": "code",
   "execution_count": 27,
   "id": "97096162",
   "metadata": {},
   "outputs": [],
   "source": [
    "from sklearn.preprocessing import LabelEncoder\n",
    "features = ['CITY','STATE']\n",
    "label_encoder = LabelEncoder()\n",
    "for col in features:\n",
    "    data[col] = label_encoder.fit_transform(data[col])"
   ]
  },
  {
   "cell_type": "code",
   "execution_count": 28,
   "id": "a232469b",
   "metadata": {},
   "outputs": [
    {
     "name": "stdout",
     "output_type": "stream",
     "text": [
      "<class 'pandas.core.frame.DataFrame'>\n",
      "RangeIndex: 252000 entries, 0 to 251999\n",
      "Data columns (total 13 columns):\n",
      " #   Column             Non-Null Count   Dtype\n",
      "---  ------             --------------   -----\n",
      " 0   Id                 252000 non-null  int64\n",
      " 1   Income             252000 non-null  int64\n",
      " 2   Age                252000 non-null  int64\n",
      " 3   Experience         252000 non-null  int64\n",
      " 4   Married/Single     252000 non-null  int32\n",
      " 5   House_Ownership    252000 non-null  int32\n",
      " 6   Car_Ownership      252000 non-null  int32\n",
      " 7   Profession         252000 non-null  int32\n",
      " 8   CITY               252000 non-null  int32\n",
      " 9   STATE              252000 non-null  int32\n",
      " 10  CURRENT_JOB_YRS    252000 non-null  int64\n",
      " 11  CURRENT_HOUSE_YRS  252000 non-null  int64\n",
      " 12  Risk_Flag          252000 non-null  int64\n",
      "dtypes: int32(6), int64(7)\n",
      "memory usage: 19.2 MB\n"
     ]
    }
   ],
   "source": [
    "data.info()"
   ]
  },
  {
   "cell_type": "code",
   "execution_count": 29,
   "id": "2278cd83",
   "metadata": {},
   "outputs": [
    {
     "data": {
      "text/html": [
       "<div>\n",
       "<style scoped>\n",
       "    .dataframe tbody tr th:only-of-type {\n",
       "        vertical-align: middle;\n",
       "    }\n",
       "\n",
       "    .dataframe tbody tr th {\n",
       "        vertical-align: top;\n",
       "    }\n",
       "\n",
       "    .dataframe thead th {\n",
       "        text-align: right;\n",
       "    }\n",
       "</style>\n",
       "<table border=\"1\" class=\"dataframe\">\n",
       "  <thead>\n",
       "    <tr style=\"text-align: right;\">\n",
       "      <th></th>\n",
       "      <th>Id</th>\n",
       "      <th>Income</th>\n",
       "      <th>Age</th>\n",
       "      <th>Experience</th>\n",
       "      <th>Married/Single</th>\n",
       "      <th>House_Ownership</th>\n",
       "      <th>Car_Ownership</th>\n",
       "      <th>Profession</th>\n",
       "      <th>CITY</th>\n",
       "      <th>STATE</th>\n",
       "      <th>CURRENT_JOB_YRS</th>\n",
       "      <th>CURRENT_HOUSE_YRS</th>\n",
       "      <th>Risk_Flag</th>\n",
       "    </tr>\n",
       "  </thead>\n",
       "  <tbody>\n",
       "    <tr>\n",
       "      <th>0</th>\n",
       "      <td>1</td>\n",
       "      <td>1303834</td>\n",
       "      <td>23</td>\n",
       "      <td>3</td>\n",
       "      <td>1</td>\n",
       "      <td>1</td>\n",
       "      <td>0</td>\n",
       "      <td>11</td>\n",
       "      <td>251</td>\n",
       "      <td>13</td>\n",
       "      <td>3</td>\n",
       "      <td>13</td>\n",
       "      <td>0</td>\n",
       "    </tr>\n",
       "    <tr>\n",
       "      <th>1</th>\n",
       "      <td>2</td>\n",
       "      <td>7574516</td>\n",
       "      <td>40</td>\n",
       "      <td>10</td>\n",
       "      <td>1</td>\n",
       "      <td>1</td>\n",
       "      <td>0</td>\n",
       "      <td>20</td>\n",
       "      <td>227</td>\n",
       "      <td>14</td>\n",
       "      <td>9</td>\n",
       "      <td>13</td>\n",
       "      <td>0</td>\n",
       "    </tr>\n",
       "    <tr>\n",
       "      <th>2</th>\n",
       "      <td>3</td>\n",
       "      <td>3991815</td>\n",
       "      <td>66</td>\n",
       "      <td>4</td>\n",
       "      <td>0</td>\n",
       "      <td>1</td>\n",
       "      <td>0</td>\n",
       "      <td>13</td>\n",
       "      <td>8</td>\n",
       "      <td>12</td>\n",
       "      <td>4</td>\n",
       "      <td>10</td>\n",
       "      <td>0</td>\n",
       "    </tr>\n",
       "    <tr>\n",
       "      <th>3</th>\n",
       "      <td>4</td>\n",
       "      <td>6256451</td>\n",
       "      <td>41</td>\n",
       "      <td>2</td>\n",
       "      <td>1</td>\n",
       "      <td>1</td>\n",
       "      <td>1</td>\n",
       "      <td>20</td>\n",
       "      <td>54</td>\n",
       "      <td>17</td>\n",
       "      <td>2</td>\n",
       "      <td>12</td>\n",
       "      <td>1</td>\n",
       "    </tr>\n",
       "    <tr>\n",
       "      <th>4</th>\n",
       "      <td>5</td>\n",
       "      <td>5768871</td>\n",
       "      <td>47</td>\n",
       "      <td>11</td>\n",
       "      <td>1</td>\n",
       "      <td>1</td>\n",
       "      <td>0</td>\n",
       "      <td>48</td>\n",
       "      <td>296</td>\n",
       "      <td>22</td>\n",
       "      <td>3</td>\n",
       "      <td>14</td>\n",
       "      <td>1</td>\n",
       "    </tr>\n",
       "  </tbody>\n",
       "</table>\n",
       "</div>"
      ],
      "text/plain": [
       "   Id   Income  Age  Experience  Married/Single  House_Ownership  \\\n",
       "0   1  1303834   23           3               1                1   \n",
       "1   2  7574516   40          10               1                1   \n",
       "2   3  3991815   66           4               0                1   \n",
       "3   4  6256451   41           2               1                1   \n",
       "4   5  5768871   47          11               1                1   \n",
       "\n",
       "   Car_Ownership  Profession  CITY  STATE  CURRENT_JOB_YRS  CURRENT_HOUSE_YRS  \\\n",
       "0              0          11   251     13                3                 13   \n",
       "1              0          20   227     14                9                 13   \n",
       "2              0          13     8     12                4                 10   \n",
       "3              1          20    54     17                2                 12   \n",
       "4              0          48   296     22                3                 14   \n",
       "\n",
       "   Risk_Flag  \n",
       "0          0  \n",
       "1          0  \n",
       "2          0  \n",
       "3          1  \n",
       "4          1  "
      ]
     },
     "execution_count": 29,
     "metadata": {},
     "output_type": "execute_result"
    }
   ],
   "source": [
    "data.head()"
   ]
  },
  {
   "cell_type": "code",
   "execution_count": 30,
   "id": "9025eaf8",
   "metadata": {},
   "outputs": [],
   "source": [
    "IndepVar = []\n",
    "for col in data.columns:\n",
    "    if col != 'Risk_Flag':\n",
    "        IndepVar.append(col)\n",
    "\n",
    "TargetVar = 'Risk_Flag'\n",
    "\n",
    "x = data[IndepVar]\n",
    "y = data[TargetVar]"
   ]
  },
  {
   "cell_type": "code",
   "execution_count": 31,
   "id": "a8e74a1e",
   "metadata": {},
   "outputs": [
    {
     "data": {
      "text/html": [
       "<div>\n",
       "<style scoped>\n",
       "    .dataframe tbody tr th:only-of-type {\n",
       "        vertical-align: middle;\n",
       "    }\n",
       "\n",
       "    .dataframe tbody tr th {\n",
       "        vertical-align: top;\n",
       "    }\n",
       "\n",
       "    .dataframe thead th {\n",
       "        text-align: right;\n",
       "    }\n",
       "</style>\n",
       "<table border=\"1\" class=\"dataframe\">\n",
       "  <thead>\n",
       "    <tr style=\"text-align: right;\">\n",
       "      <th></th>\n",
       "      <th>Model Name</th>\n",
       "      <th>True_Positive</th>\n",
       "      <th>False_Negative</th>\n",
       "      <th>False_Positive</th>\n",
       "      <th>True_Negative</th>\n",
       "      <th>Accuracy</th>\n",
       "      <th>Precision</th>\n",
       "      <th>Recall</th>\n",
       "      <th>F1 Score</th>\n",
       "      <th>Specificity</th>\n",
       "      <th>MCC</th>\n",
       "      <th>ROC_AUC_Score</th>\n",
       "      <th>Balanced Accuracy</th>\n",
       "    </tr>\n",
       "  </thead>\n",
       "  <tbody>\n",
       "  </tbody>\n",
       "</table>\n",
       "</div>"
      ],
      "text/plain": [
       "Empty DataFrame\n",
       "Columns: [Model Name, True_Positive, False_Negative, False_Positive, True_Negative, Accuracy, Precision, Recall, F1 Score, Specificity, MCC, ROC_AUC_Score, Balanced Accuracy]\n",
       "Index: []"
      ]
     },
     "execution_count": 31,
     "metadata": {},
     "output_type": "execute_result"
    }
   ],
   "source": [
    "Results = pd.read_csv(\"HTResults.csv\", header=0)\n",
    "Results.head()"
   ]
  },
  {
   "cell_type": "code",
   "execution_count": 32,
   "id": "f7ab0051",
   "metadata": {},
   "outputs": [
    {
     "data": {
      "text/plain": [
       "((176400, 12), (75600, 12), (176400,), (75600,))"
      ]
     },
     "execution_count": 32,
     "metadata": {},
     "output_type": "execute_result"
    }
   ],
   "source": [
    "from sklearn.model_selection import train_test_split \n",
    "\n",
    "x_train, x_test, y_train, y_test = train_test_split(x, y, test_size=0.3, random_state=42)\n",
    "x_train.shape, x_test.shape, y_train.shape, y_test.shape"
   ]
  },
  {
   "cell_type": "code",
   "execution_count": 33,
   "id": "cd63a910",
   "metadata": {},
   "outputs": [],
   "source": [
    "from sklearn.preprocessing import MinMaxScaler\n",
    "\n",
    "mmscaler = MinMaxScaler(feature_range=(0, 1))\n",
    "\n",
    "x_train = mmscaler.fit_transform(x_train)\n",
    "x_train = pd.DataFrame(x_train)\n",
    "\n",
    "x_test = mmscaler.fit_transform(x_test)\n",
    "x_test = pd.DataFrame(x_test)"
   ]
  },
  {
   "cell_type": "code",
   "execution_count": 34,
   "id": "9e1645a4",
   "metadata": {},
   "outputs": [],
   "source": [
    "from sklearn.linear_model import LogisticRegression \n",
    "from sklearn.ensemble import RandomForestClassifier\n",
    "from sklearn.tree import DecisionTreeClassifier\n",
    "from sklearn.ensemble import ExtraTreesClassifier\n",
    "from sklearn.svm import SVC\n",
    "from xgboost import XGBClassifier\n",
    "from sklearn.neighbors import KNeighborsClassifier\n",
    "from sklearn.ensemble import BaggingClassifier\n",
    "from sklearn.naive_bayes import GaussianNB\n",
    "import lightgbm as lgb\n",
    "ModelLGBMC=lgb.LGBMClassifier()\n",
    "\n",
    "\n",
    "ModelLR = LogisticRegression()\n",
    "ModelRF = RandomForestClassifier()\n",
    "ModelDC = DecisionTreeClassifier()\n",
    "ModelET = ExtraTreesClassifier()\n",
    "ModelSVM = SVC(C=1.0, kernel='linear', degree=3, gamma='scale', coef0=0.0, shrinking=True, \n",
    "                  probability=True, tol=0.001, cache_size=200, class_weight=None, verbose=False, \n",
    "                  max_iter=- 1, decision_function_shape='ovr', break_ties=False, random_state=None)\n",
    "ModelXGB=XGBClassifier(n_estimators=100, max_depth=3, eval_metric='mlogloss')\n",
    "ModelKNN = KNeighborsClassifier()\n",
    "ModelBAG = BaggingClassifier()\n",
    "ModelGNB = GaussianNB()\n",
    "ModelLGBMC=lgb.LGBMClassifier()\n",
    "\n"
   ]
  },
  {
   "cell_type": "code",
   "execution_count": 35,
   "id": "026debcf",
   "metadata": {},
   "outputs": [
    {
     "name": "stdout",
     "output_type": "stream",
     "text": [
      "Model Name:  RandomForestClassifier()\n",
      "Confusion matrix : \n",
      " [[64452  1877]\n",
      " [ 5128  4143]]\n",
      "Outcome values : \n",
      " 4143 5128 1877 64452\n",
      "Classification report:\n",
      "               precision    recall  f1-score   support\n",
      "\n",
      "           0       0.93      0.97      0.95     66329\n",
      "           1       0.69      0.45      0.54      9271\n",
      "\n",
      "    accuracy                           0.91     75600\n",
      "   macro avg       0.81      0.71      0.75     75600\n",
      "weighted avg       0.90      0.91      0.90     75600\n",
      "\n",
      "Accuracy : 90.7 %\n",
      "Precision : 68.8 %\n",
      "Recall : 44.7 %\n",
      "F1 Score : 0.542\n",
      "Specificity or True Negative Rate : 97.2 %\n",
      "Balanced Accuracy : 71.0 %\n",
      "MCC : 0.507\n",
      "roc_auc_score: 0.709\n"
     ]
    },
    {
     "data": {
      "image/png": "[encoded data removed]",
      "text/plain": [
       "<Figure size 432x288 with 1 Axes>"
      ]
     },
     "metadata": {
      "needs_background": "light"
     },
     "output_type": "display_data"
    },
    {
     "name": "stdout",
     "output_type": "stream",
     "text": [
      "-----------------------------------------------------------------------------------------------------\n",
      "Model Name:  ExtraTreesClassifier()\n",
      "Confusion matrix : \n",
      " [[63975  2354]\n",
      " [ 5208  4063]]\n",
      "Outcome values : \n",
      " 4063 5208 2354 63975\n",
      "Classification report:\n",
      "               precision    recall  f1-score   support\n",
      "\n",
      "           0       0.92      0.96      0.94     66329\n",
      "           1       0.63      0.44      0.52      9271\n",
      "\n",
      "    accuracy                           0.90     75600\n",
      "   macro avg       0.78      0.70      0.73     75600\n",
      "weighted avg       0.89      0.90      0.89     75600\n",
      "\n",
      "Accuracy : 90.0 %\n",
      "Precision : 63.3 %\n",
      "Recall : 43.8 %\n",
      "F1 Score : 0.518\n",
      "Specificity or True Negative Rate : 96.5 %\n",
      "Balanced Accuracy : 70.2 %\n",
      "MCC : 0.474\n",
      "roc_auc_score: 0.701\n"
     ]
    },
    {
     "data": {
      "image/png": "[encoded data removed]",
      "text/plain": [
       "<Figure size 432x288 with 1 Axes>"
      ]
     },
     "metadata": {
      "needs_background": "light"
     },
     "output_type": "display_data"
    },
    {
     "name": "stdout",
     "output_type": "stream",
     "text": [
      "-----------------------------------------------------------------------------------------------------\n",
      "Model Name:  KNeighborsClassifier()\n",
      "Confusion matrix : \n",
      " [[62706  3623]\n",
      " [ 4758  4513]]\n",
      "Outcome values : \n",
      " 4513 4758 3623 62706\n",
      "Classification report:\n",
      "               precision    recall  f1-score   support\n",
      "\n",
      "           0       0.93      0.95      0.94     66329\n",
      "           1       0.55      0.49      0.52      9271\n",
      "\n",
      "    accuracy                           0.89     75600\n",
      "   macro avg       0.74      0.72      0.73     75600\n",
      "weighted avg       0.88      0.89      0.89     75600\n",
      "\n",
      "Accuracy : 88.9 %\n",
      "Precision : 55.5 %\n",
      "Recall : 48.7 %\n",
      "F1 Score : 0.519\n",
      "Specificity or True Negative Rate : 94.5 %\n",
      "Balanced Accuracy : 71.6 %\n",
      "MCC : 0.457\n",
      "roc_auc_score: 0.716\n"
     ]
    },
    {
     "data": {
      "image/png": "[encoded data removed]",
      "text/plain": [
       "<Figure size 432x288 with 1 Axes>"
      ]
     },
     "metadata": {
      "needs_background": "light"
     },
     "output_type": "display_data"
    },
    {
     "name": "stdout",
     "output_type": "stream",
     "text": [
      "-----------------------------------------------------------------------------------------------------\n"
     ]
    }
   ],
   "source": [
    "from sklearn.metrics import confusion_matrix\n",
    "from sklearn.metrics import classification_report\n",
    "mm=[ModelRF,ModelET,ModelKNN]\n",
    "for models in mm:\n",
    "    models = models.fit(x_train,y_train)\n",
    "    y_pred = models.predict(x_test)\n",
    "    print('Model Name: ', models)\n",
    "    # actual values\n",
    "\n",
    "    actual = y_test\n",
    "\n",
    "    # predicted values\n",
    "\n",
    "    predicted = y_pred\n",
    "\n",
    "    # confusion matrix\n",
    "\n",
    "    matrix = confusion_matrix(actual,predicted)\n",
    "    print('Confusion matrix : \\n', matrix)\n",
    "\n",
    "    # outcome values order in sklearn\n",
    "\n",
    "    tp, fn, fp, tn = confusion_matrix(actual,predicted,labels=[1,0]).reshape(-1)\n",
    "    print('Outcome values : \\n', tp, fn, fp, tn)\n",
    "\n",
    "    # classification report for precision, recall f1-score and accuracy\n",
    "\n",
    "    C_Report = classification_report(actual,predicted,labels=[1,0])\n",
    "\n",
    "    print('Classification report:\\n', classification_report(y_test,y_pred))\n",
    "    # calculating the metrics\n",
    "\n",
    "    sensitivity = round(tp/(tp+fn), 3);\n",
    "    specificity = round(tn/(tn+fp), 3);\n",
    "    accuracy = round((tp+tn)/(tp+fp+tn+fn), 3);\n",
    "    balanced_accuracy = round((sensitivity+specificity)/2, 3);\n",
    "    \n",
    "    precision = round(tp/(tp+fp), 3);\n",
    "    f1Score = round((2*tp/(2*tp + fp + fn)), 3);\n",
    "\n",
    "    # Matthews Correlation Coefficient (MCC). Range of values of MCC lie between -1 to +1. \n",
    "    # A model with a score of +1 is a perfect model and -1 is a poor model\n",
    "\n",
    "    from math import sqrt\n",
    "\n",
    "    mx = (tp+fp) * (tp+fn) * (tn+fp) * (tn+fn)\n",
    "    MCC = round(((tp * tn) - (fp * fn)) / sqrt(mx), 3)\n",
    "\n",
    "    print('Accuracy :', round(accuracy*100, 2),'%')\n",
    "    print('Precision :', round(precision*100, 2),'%')\n",
    "    print('Recall :', round(sensitivity*100,2), '%')\n",
    "    print('F1 Score :', f1Score)\n",
    "    print('Specificity or True Negative Rate :', round(specificity*100,2), '%'  )\n",
    "    print('Balanced Accuracy :', round(balanced_accuracy*100, 2),'%')\n",
    "    print('MCC :', MCC)\n",
    "\n",
    "    # Area under ROC curve \n",
    "\n",
    "    from sklearn.metrics import roc_curve, roc_auc_score\n",
    "\n",
    "    print('roc_auc_score:', round(roc_auc_score(y_test, y_pred), 3))\n",
    "\n",
    "    # ROC Curve\n",
    "\n",
    "    from sklearn.metrics import roc_auc_score\n",
    "    from sklearn.metrics import roc_curve\n",
    "    logit_roc_auc = roc_auc_score(y_test, y_pred)\n",
    "    fpr, tpr, thresholds = roc_curve(y_test,models.predict_proba(x_test)[:,1])\n",
    "    plt.figure()\n",
    "    # plt.plot(fpr, tpr, label='Logistic Regression (area = %0.2f)' % logit_roc_auc)\n",
    "    plt.plot(fpr, tpr, label= 'Classification Model' % logit_roc_auc)\n",
    "    plt.plot([0, 1], [0, 1],'r--')\n",
    "    plt.xlim([0.0, 1.0])\n",
    "    plt.ylim([0.0, 1.05])\n",
    "    plt.xlabel('False Positive Rate')\n",
    "    plt.ylabel('True Positive Rate')\n",
    "    plt.title('Receiver operating characteristic')\n",
    "    plt.legend(loc=\"lower right\")\n",
    "    #plt.savefig('Log_ROC')\n",
    "    plt.show() \n",
    "    new_row = {'Model Name' : models,\n",
    "               'True_Positive' : tp, \n",
    "               'False_Negative' : fn, \n",
    "               'False_Positive' : fp,\n",
    "               'True_Negative' : tn,\n",
    "               'Accuracy' : accuracy,\n",
    "               'Precision' : precision,\n",
    "               'Recall' : sensitivity,\n",
    "               'F1 Score' : f1Score,\n",
    "               'Specificity' : specificity,\n",
    "               'MCC':MCC,\n",
    "               'ROC_AUC_Score':roc_auc_score(y_test, y_pred),\n",
    "               'Balanced Accuracy':balanced_accuracy}\n",
    "    Results = Results.append(new_row, ignore_index=True)\n",
    "    print('-----------------------------------------------------------------------------------------------------')"
   ]
  },
  {
   "cell_type": "code",
   "execution_count": 36,
   "id": "ab4f01c5",
   "metadata": {
    "scrolled": true
   },
   "outputs": [
    {
     "data": {
      "text/html": [
       "<div>\n",
       "<style scoped>\n",
       "    .dataframe tbody tr th:only-of-type {\n",
       "        vertical-align: middle;\n",
       "    }\n",
       "\n",
       "    .dataframe tbody tr th {\n",
       "        vertical-align: top;\n",
       "    }\n",
       "\n",
       "    .dataframe thead th {\n",
       "        text-align: right;\n",
       "    }\n",
       "</style>\n",
       "<table border=\"1\" class=\"dataframe\">\n",
       "  <thead>\n",
       "    <tr style=\"text-align: right;\">\n",
       "      <th></th>\n",
       "      <th>Model Name</th>\n",
       "      <th>True_Positive</th>\n",
       "      <th>False_Negative</th>\n",
       "      <th>False_Positive</th>\n",
       "      <th>True_Negative</th>\n",
       "      <th>Accuracy</th>\n",
       "      <th>Precision</th>\n",
       "      <th>Recall</th>\n",
       "      <th>F1 Score</th>\n",
       "      <th>Specificity</th>\n",
       "      <th>MCC</th>\n",
       "      <th>ROC_AUC_Score</th>\n",
       "      <th>Balanced Accuracy</th>\n",
       "    </tr>\n",
       "  </thead>\n",
       "  <tbody>\n",
       "    <tr>\n",
       "      <th>0</th>\n",
       "      <td>(DecisionTreeClassifier(max_features='sqrt', r...</td>\n",
       "      <td>4143</td>\n",
       "      <td>5128</td>\n",
       "      <td>1877</td>\n",
       "      <td>64452</td>\n",
       "      <td>0.907</td>\n",
       "      <td>0.688</td>\n",
       "      <td>0.447</td>\n",
       "      <td>0.542</td>\n",
       "      <td>0.972</td>\n",
       "      <td>0.507</td>\n",
       "      <td>0.709290</td>\n",
       "      <td>0.710</td>\n",
       "    </tr>\n",
       "    <tr>\n",
       "      <th>1</th>\n",
       "      <td>(ExtraTreeClassifier(random_state=19408292), E...</td>\n",
       "      <td>4063</td>\n",
       "      <td>5208</td>\n",
       "      <td>2354</td>\n",
       "      <td>63975</td>\n",
       "      <td>0.900</td>\n",
       "      <td>0.633</td>\n",
       "      <td>0.438</td>\n",
       "      <td>0.518</td>\n",
       "      <td>0.965</td>\n",
       "      <td>0.474</td>\n",
       "      <td>0.701379</td>\n",
       "      <td>0.702</td>\n",
       "    </tr>\n",
       "    <tr>\n",
       "      <th>2</th>\n",
       "      <td>KNeighborsClassifier()</td>\n",
       "      <td>4513</td>\n",
       "      <td>4758</td>\n",
       "      <td>3623</td>\n",
       "      <td>62706</td>\n",
       "      <td>0.889</td>\n",
       "      <td>0.555</td>\n",
       "      <td>0.487</td>\n",
       "      <td>0.519</td>\n",
       "      <td>0.945</td>\n",
       "      <td>0.457</td>\n",
       "      <td>0.716083</td>\n",
       "      <td>0.716</td>\n",
       "    </tr>\n",
       "  </tbody>\n",
       "</table>\n",
       "</div>"
      ],
      "text/plain": [
       "                                          Model Name True_Positive  \\\n",
       "0  (DecisionTreeClassifier(max_features='sqrt', r...          4143   \n",
       "1  (ExtraTreeClassifier(random_state=19408292), E...          4063   \n",
       "2                             KNeighborsClassifier()          4513   \n",
       "\n",
       "  False_Negative False_Positive True_Negative  Accuracy  Precision  Recall  \\\n",
       "0           5128           1877         64452     0.907      0.688   0.447   \n",
       "1           5208           2354         63975     0.900      0.633   0.438   \n",
       "2           4758           3623         62706     0.889      0.555   0.487   \n",
       "\n",
       "   F1 Score  Specificity    MCC  ROC_AUC_Score  Balanced Accuracy  \n",
       "0     0.542        0.972  0.507       0.709290              0.710  \n",
       "1     0.518        0.965  0.474       0.701379              0.702  \n",
       "2     0.519        0.945  0.457       0.716083              0.716  "
      ]
     },
     "execution_count": 36,
     "metadata": {},
     "output_type": "execute_result"
    }
   ],
   "source": [
    "Results.head(20)"
   ]
  },
  {
   "cell_type": "code",
   "execution_count": null,
   "id": "ba28f95f",
   "metadata": {},
   "outputs": [],
   "source": []
  }
 ],
 "metadata": {
  "kernelspec": {
   "display_name": "Python 3 (ipykernel)",
   "language": "python",
   "name": "python3"
  },
  "language_info": {
   "codemirror_mode": {
    "name": "ipython",
    "version": 3
   },
   "file_extension": ".py",
   "mimetype": "text/x-python",
   "name": "python",
   "nbconvert_exporter": "python",
   "pygments_lexer": "ipython3",
   "version": "3.10.5"
  }
 },
 "nbformat": 4,
 "nbformat_minor": 5
}
